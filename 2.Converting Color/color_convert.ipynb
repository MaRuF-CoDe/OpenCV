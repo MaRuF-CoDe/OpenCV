{
 "cells": [
  {
   "cell_type": "code",
   "execution_count": 1,
   "id": "c4eed885",
   "metadata": {},
   "outputs": [],
   "source": [
    "import numpy as np\n",
    "import cv2"
   ]
  },
  {
   "cell_type": "code",
   "execution_count": 2,
   "id": "661ddead",
   "metadata": {},
   "outputs": [],
   "source": [
    "img = cv2.imread('./images/flemingo.jpg')"
   ]
  },
  {
   "cell_type": "code",
   "execution_count": 3,
   "id": "21ae4d27",
   "metadata": {},
   "outputs": [
    {
     "data": {
      "text/plain": [
       "array([[[188, 163, 119],\n",
       "        [189, 164, 120],\n",
       "        [189, 164, 120],\n",
       "        ...,\n",
       "        [188, 163, 119],\n",
       "        [188, 163, 119],\n",
       "        [188, 163, 119]],\n",
       "\n",
       "       [[188, 163, 119],\n",
       "        [189, 164, 120],\n",
       "        [189, 164, 120],\n",
       "        ...,\n",
       "        [188, 163, 119],\n",
       "        [188, 163, 119],\n",
       "        [188, 163, 119]],\n",
       "\n",
       "       [[188, 163, 119],\n",
       "        [189, 164, 120],\n",
       "        [189, 164, 120],\n",
       "        ...,\n",
       "        [188, 163, 119],\n",
       "        [188, 163, 119],\n",
       "        [188, 163, 119]],\n",
       "\n",
       "       ...,\n",
       "\n",
       "       [[167, 134,  88],\n",
       "        [167, 134,  88],\n",
       "        [167, 134,  88],\n",
       "        ...,\n",
       "        [177, 144,  98],\n",
       "        [177, 144,  98],\n",
       "        [177, 144,  98]],\n",
       "\n",
       "       [[171, 141,  94],\n",
       "        [171, 141,  94],\n",
       "        [172, 142,  95],\n",
       "        ...,\n",
       "        [177, 144,  98],\n",
       "        [177, 144,  98],\n",
       "        [177, 144,  98]],\n",
       "\n",
       "       [[177, 147, 100],\n",
       "        [177, 147, 100],\n",
       "        [178, 148, 101],\n",
       "        ...,\n",
       "        [177, 144,  98],\n",
       "        [177, 144,  98],\n",
       "        [177, 144,  98]]], dtype=uint8)"
      ]
     },
     "execution_count": 3,
     "metadata": {},
     "output_type": "execute_result"
    }
   ],
   "source": [
    "img"
   ]
  },
  {
   "cell_type": "code",
   "execution_count": 4,
   "id": "bd089910",
   "metadata": {},
   "outputs": [
    {
     "data": {
      "text/plain": [
       "(640, 640, 3)"
      ]
     },
     "execution_count": 4,
     "metadata": {},
     "output_type": "execute_result"
    }
   ],
   "source": [
    "img.shape"
   ]
  },
  {
   "cell_type": "code",
   "execution_count": 5,
   "id": "cbede7b1",
   "metadata": {},
   "outputs": [],
   "source": [
    "b,g,r = cv2.split(img)"
   ]
  },
  {
   "cell_type": "code",
   "execution_count": 6,
   "id": "2f22b9c9",
   "metadata": {},
   "outputs": [
    {
     "data": {
      "text/plain": [
       "array([[188, 189, 189, ..., 188, 188, 188],\n",
       "       [188, 189, 189, ..., 188, 188, 188],\n",
       "       [188, 189, 189, ..., 188, 188, 188],\n",
       "       ...,\n",
       "       [167, 167, 167, ..., 177, 177, 177],\n",
       "       [171, 171, 172, ..., 177, 177, 177],\n",
       "       [177, 177, 178, ..., 177, 177, 177]], dtype=uint8)"
      ]
     },
     "execution_count": 6,
     "metadata": {},
     "output_type": "execute_result"
    }
   ],
   "source": [
    "b"
   ]
  },
  {
   "cell_type": "code",
   "execution_count": 7,
   "id": "b6ce1091",
   "metadata": {},
   "outputs": [],
   "source": [
    "cv2.imshow('color',img)\n",
    "cv2.imshow('blue',b)\n",
    "cv2.imshow('green',g)\n",
    "cv2.imshow('red',r)\n",
    "cv2.waitKey(0)\n",
    "cv2.destroyAllWindows()"
   ]
  },
  {
   "cell_type": "code",
   "execution_count": 8,
   "id": "955bcfc8",
   "metadata": {},
   "outputs": [],
   "source": [
    "# color converter\n",
    "img_rgb = cv2.cvtColor(img,cv2.COLOR_BGR2RGB)"
   ]
  },
  {
   "cell_type": "code",
   "execution_count": 9,
   "id": "928d6698",
   "metadata": {},
   "outputs": [],
   "source": [
    "#grasclae\n",
    "img_gray = cv2.cvtColor(img,cv2.COLOR_BGR2GRAY)"
   ]
  },
  {
   "cell_type": "code",
   "execution_count": 10,
   "id": "88bc7eb0",
   "metadata": {},
   "outputs": [],
   "source": [
    "cv2.imshow('bgr',img)\n",
    "cv2.imshow('rgb',img_rgb)\n",
    "cv2.imshow('gray',img_gray)\n",
    "cv2.waitKey(0)\n",
    "cv2.destroyAllWindows()"
   ]
  },
  {
   "cell_type": "code",
   "execution_count": 11,
   "id": "b5d6abe8",
   "metadata": {},
   "outputs": [
    {
     "data": {
      "text/plain": [
       "True"
      ]
     },
     "execution_count": 11,
     "metadata": {},
     "output_type": "execute_result"
    }
   ],
   "source": [
    "cv2.imwrite('gray.png',img_gray)"
   ]
  },
  {
   "cell_type": "code",
   "execution_count": null,
   "id": "aba38d36",
   "metadata": {},
   "outputs": [],
   "source": []
  }
 ],
 "metadata": {
  "kernelspec": {
   "display_name": "Python 3 (ipykernel)",
   "language": "python",
   "name": "python3"
  },
  "language_info": {
   "codemirror_mode": {
    "name": "ipython",
    "version": 3
   },
   "file_extension": ".py",
   "mimetype": "text/x-python",
   "name": "python",
   "nbconvert_exporter": "python",
   "pygments_lexer": "ipython3",
   "version": "3.10.2"
  },
  "varInspector": {
   "cols": {
    "lenName": 16,
    "lenType": 16,
    "lenVar": 40
   },
   "kernels_config": {
    "python": {
     "delete_cmd_postfix": "",
     "delete_cmd_prefix": "del ",
     "library": "var_list.py",
     "varRefreshCmd": "print(var_dic_list())"
    },
    "r": {
     "delete_cmd_postfix": ") ",
     "delete_cmd_prefix": "rm(",
     "library": "var_list.r",
     "varRefreshCmd": "cat(var_dic_list()) "
    }
   },
   "types_to_exclude": [
    "module",
    "function",
    "builtin_function_or_method",
    "instance",
    "_Feature"
   ],
   "window_display": false
  }
 },
 "nbformat": 4,
 "nbformat_minor": 5
}
